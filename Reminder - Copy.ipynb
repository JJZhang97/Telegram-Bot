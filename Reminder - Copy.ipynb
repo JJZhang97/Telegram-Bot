{
 "cells": [
  {
   "cell_type": "markdown",
   "metadata": {},
   "source": [
    "call functions:\n",
    "1. '\\show': Shows events within the month (please visit Teampup link for all activities planned)\n",
    "\n",
    "auto trigger functions\n",
    "1. at the start of every month shows events within the month\n",
    "2. 1 week before & 1 day before the start of the event, message the event\n",
    "\n",
    "notes:\n",
    "bot will auto fetch the data every day. this means that any changes within the day will only be reflected the next day."
   ]
  },
  {
   "cell_type": "code",
   "execution_count": 1,
   "metadata": {},
   "outputs": [],
   "source": [
    "# https://github.com/eternnoir/pyTelegramBotAPI/\n",
    "# pip install pyTelegramBotAPI\n",
    "import telebot\n",
    "import pandas as pd\n",
    "from datetime import datetime,timedelta\n",
    "import requests\n",
    "import json"
   ]
  },
  {
   "cell_type": "code",
   "execution_count": 2,
   "metadata": {},
   "outputs": [],
   "source": [
    "def msg(Calendar_Name, Subject, Start_Date, End_Date):\n",
    "    # converting to more readable format\n",
    "    if Start_Date.date() == End_Date.date():\n",
    "        Date = Start_Date.date().strftime('%d %b %Y')\n",
    "    else:\n",
    "        Date = f\"{Start_Date.date().strftime('%d %b %Y')} - {End_Date.date().strftime('%d %b %Y')}\"\n",
    "    # Sample message to be displayed\n",
    "    return (f\"\"\"Section: {Calendar_Name}\n",
    "Event: {Subject.title()}\n",
    "Date: {Date}\"\"\")"
   ]
  },
  {
   "cell_type": "code",
   "execution_count": 3,
   "metadata": {},
   "outputs": [],
   "source": [
    "headers = ({\"Teamup-Token\": \"f82c44f68f2823ceec7b948e35dc7d9e13c83e24a84fce29d2f2c9d2fdd712a8\"})\n",
    "start_date = \"2020-07-01\"\n",
    "end_date = \"2021-08-01\""
   ]
  },
  {
   "cell_type": "code",
   "execution_count": 4,
   "metadata": {},
   "outputs": [],
   "source": [
    "# To get the sub calendar id\n",
    "# Commented out so as to not request from the TeamUp everytime AWS restarts\n",
    "\n",
    "# sub_cal_json = requests.get(\"https://api.teamup.com/ksbrc8q6drw9ns4pgd/subcalendars\", headers=headers).json()\n",
    "# sub_calendar_id = {}\n",
    "# for sub_calendar in sub_cal_json[\"subcalendars\"]:\n",
    "#     sub_calendar_id[sub_calendar[\"id\"]] = sub_calendar[\"name\"]\n",
    "\n",
    "sub_calendar_id = {8247175: 'Alumni Relations',\n",
    "                   8235037: 'Events',\n",
    "                   8235039: 'External Relations',\n",
    "                   8224178: 'Meeting/School Start/Recess Week',\n",
    "                   8235109: 'NBS BAC',\n",
    "                   8235041: 'Press & Publications',\n",
    "                   8234993: 'Public Holidays/Revision & Examination',\n",
    "                   8235045: 'Service Learning'}"
   ]
  },
  {
   "cell_type": "code",
   "execution_count": 5,
   "metadata": {},
   "outputs": [],
   "source": [
    "events = requests.get(f\"https://api.teamup.com/ks************/events?startDate={start_date}&endDate={end_date}\", headers=headers).json()\n",
    "# URL of TeamUp calendar. Removed for security reasons.\n",
    "\n",
    "subject = []\n",
    "s_date = []\n",
    "e_date = []\n",
    "calendar_name = []\n",
    "\n",
    "for event in events[\"events\"]:\n",
    "    subject.append(event[\"title\"])\n",
    "    st_date = event[\"start_dt\"]\n",
    "    s_date.append(f\"{st_date[8:10]}/{st_date[5:7]}/{st_date[0:4]}\")\n",
    "    en_date = event[\"end_dt\"]\n",
    "    e_date.append(f\"{en_date[8:10]}/{en_date[5:7]}/{en_date[0:4]}\")\n",
    "    sub_cal_id = event[\"subcalendar_id\"]\n",
    "    calendar_name.append(sub_calendar_id[sub_cal_id])\n",
    "\n",
    "df = pd.DataFrame({\"Subject\" : subject,\n",
    "                  \"Start Date\" : s_date,\n",
    "                  \"End Date\" : e_date,\n",
    "                  \"Calendar Name\" : calendar_name})"
   ]
  },
  {
   "cell_type": "code",
   "execution_count": 6,
   "metadata": {},
   "outputs": [],
   "source": [
    "# Reading of the file if export TeamUp calendar by .csv\n",
    "# fields = [\"Subject\",\"Start Date\",\"End Date\", \"Calendar Name\"]\n",
    "# only reads in the useful cols\n",
    "# df = pd.read_csv(\"lol.csv\", usecols = fields)"
   ]
  },
  {
   "cell_type": "code",
   "execution_count": 7,
   "metadata": {},
   "outputs": [],
   "source": [
    "# Event types to be ignored\n",
    "ignore = [\"Public Holidays/Revision & Examination\"]\n",
    "df = df[~df[\"Calendar Name\"].isin(ignore)]\n",
    "\n",
    "# drop \"Meeting/School Start/Recess Week\" that isnt meeting\n",
    "condition = (df[\"Calendar Name\"] == \"Meeting/School Start/Recess Week\") & (df[\"Subject\"] != \"BAC Meeting\")\n",
    "df = df.loc[-condition,:]\n",
    "\n",
    "# Converting the dates string into datetime format\n",
    "df[\"Start Date\"] = pd.to_datetime(df[\"Start Date\"],format=\"%d/%m/%Y\")\n",
    "df[\"End Date\"] = pd.to_datetime(df[\"End Date\"],format=\"%d/%m/%Y\")\n",
    "\n",
    "# only keep if the date is later\n",
    "current_date = datetime.now()\n",
    "df = df[df[\"Start Date\"]>current_date]\n",
    "df = df.reset_index(drop=True)"
   ]
  },
  {
   "cell_type": "markdown",
   "metadata": {},
   "source": [
    "Monthly Message"
   ]
  },
  {
   "cell_type": "code",
   "execution_count": 8,
   "metadata": {},
   "outputs": [],
   "source": [
    "m_df = df.loc[df['Start Date'].dt.month==current_date.month,:].sort_values([\"Start Date\", \"Calendar Name\", \"Subject\"]).reset_index(drop=True)\n",
    "\n",
    "if len(m_df) == 0:\n",
    "    m_text = \"There are no scheduled event for the month\"\n",
    "else:\n",
    "    m_text = \"Please be reminded that the following event is scheduled: \\n\"\n",
    "    for r in range(len(m_df)):\n",
    "        m_text += msg(m_df.loc[r, \"Calendar Name\"], m_df.loc[r, \"Subject\"], m_df.loc[r, \"Start Date\"], m_df.loc[r, \"End Date\"])\n",
    "        m_text += \"\\n\\n\""
   ]
  },
  {
   "cell_type": "markdown",
   "metadata": {},
   "source": [
    "Weekly/Daily Message"
   ]
  },
  {
   "cell_type": "code",
   "execution_count": 9,
   "metadata": {},
   "outputs": [],
   "source": [
    "index = [] # index of events which need to send reminders\n",
    "for i in range(len(df[\"Start Date\"])):\n",
    "    t = df.loc[i,\"Start Date\"].date() - current_date.date()\n",
    "    if t == timedelta(days=7) or t == timedelta(days=1): # No. of days given in advance\n",
    "        index.append(i)\n",
    "    \n",
    "wd_df = df.loc[index, :].sort_values([\"Start Date\", \"Calendar Name\", \"Subject\"]).reset_index(drop=True)\n",
    "wk_text = \"Please be reminded that the following event is scheduled: \\n\"\n",
    "for r in range(len(wd_df)):\n",
    "    wk_text += msg(wd_df.loc[r, \"Calendar Name\"], wd_df.loc[r, \"Subject\"], wd_df.loc[r, \"Start Date\"], wd_df.loc[r, \"End Date\"])\n",
    "    wk_text += \"\\n\\n\""
   ]
  },
  {
   "cell_type": "code",
   "execution_count": 10,
   "metadata": {},
   "outputs": [],
   "source": [
    "TOKEN = \"\" # telegram Bot Token. Removed for security reasons\n",
    "CHAT_ID = \"-413526424\"# Chat room ID\n",
    "bot = telebot.TeleBot(TOKEN)"
   ]
  },
  {
   "cell_type": "code",
   "execution_count": 11,
   "metadata": {},
   "outputs": [],
   "source": [
    "# prints m_text when \"/show @Reminder\"\n",
    "@bot.message_handler(commands=['show'])\n",
    "def show(message):\n",
    "    bot.reply_to(message, m_text)\n",
    "    \n",
    "# send monthly message\n",
    "if current_date.day == 1:\n",
    "    bot.send_message(chat_id = CHAT_ID, text = m_text)\n",
    "\n",
    "# send weekly/daily message\n",
    "if wk_text != \"Please be reminded that the following event is scheduled: \\n\":\n",
    "    bot.send_message(chat_id = CHAT_ID, text = wk_text)\n",
    "\n",
    "bot.polling(none_stop=False, interval=0, timeout=20)"
   ]
  },
  {
   "cell_type": "code",
   "execution_count": 12,
   "metadata": {},
   "outputs": [],
   "source": [
    "# print(wk_text)"
   ]
  },
  {
   "cell_type": "code",
   "execution_count": 13,
   "metadata": {},
   "outputs": [],
   "source": [
    "# print(m_text)"
   ]
  },
  {
   "cell_type": "code",
   "execution_count": 14,
   "metadata": {},
   "outputs": [],
   "source": [
    "# To host on AWS EC2: https://www.youtube.com/watch?v=WE303yFWfV4&list=LLXY2pMaIWQQfnyHO5RsO3wQ&index=31\n",
    "#            or this: https://www.youtube.com/watch?v=BYvKv3kM9pk&list=LLXY2pMaIWQQfnyHO5RsO3wQ&index=31&t=0s\n",
    "# sceduling of task: 2nd link, timestamp: 14:20\n",
    "\n",
    "# commands:\n",
    "# after starting session in Putty: type \"screen -r\"\n",
    "# close \"screen\" but server still running: press \"ctrl + A + D\"\n",
    "# stop server (don't do this): press \"ctrl + c\""
   ]
  }
 ],
 "metadata": {
  "kernelspec": {
   "display_name": "Python 3",
   "language": "python",
   "name": "python3"
  },
  "language_info": {
   "codemirror_mode": {
    "name": "ipython",
    "version": 3
   },
   "file_extension": ".py",
   "mimetype": "text/x-python",
   "name": "python",
   "nbconvert_exporter": "python",
   "pygments_lexer": "ipython3",
   "version": "3.7.6"
  }
 },
 "nbformat": 4,
 "nbformat_minor": 2
}
